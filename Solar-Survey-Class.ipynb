{
 "cells": [
  {
   "cell_type": "code",
   "execution_count": 1,
   "id": "5e389076",
   "metadata": {},
   "outputs": [],
   "source": [
    "import pandas as pd\n",
    "import matplotlib.pyplot as plt"
   ]
  },
  {
   "cell_type": "code",
   "execution_count": 2,
   "id": "eadff802",
   "metadata": {},
   "outputs": [],
   "source": [
    "class SolarRoofLoading(object):\n",
    "    \n",
    "    def __init__(self, cladding, services, PV_loading, maintenance, uniform_snow_loading, snow_drift_valley, snow_drift_parapet, wind_down, snow_drift_length):\n",
    "        # Initialises the loading values for the roof type\n",
    "        self.cladding = cladding\n",
    "        self.services = services\n",
    "        self.PV_loading = PV_loading\n",
    "        self.maintenance = maintenance\n",
    "        self.uniform_snow_loading = uniform_snow_loading\n",
    "        self.snow_drift_valley = snow_drift_valley\n",
    "        self.snow_drift_parapet = snow_drift_parapet\n",
    "        self.wind_down = wind_down\n",
    "        self.snow_drift_length = snow_drift_length\n",
    "        \n",
    "        # Initialises different combinations of loads\n",
    "        self.dead_loading = self.cladding + self.services\n",
    "        self.existing_loading =  self.dead_loading + self.maintenance\n",
    "        self.proposed_loading = self.dead_loading + self.PV_loading\n",
    "        \n",
    "        # Initialises empty pandas series and dictionaries to store values of roof survey\n",
    "        self.distance_to_next_purlin = pd.Series(dtype=float)\n",
    "        self.distance_from_ridge = pd.Series(dtype=float)\n",
    "        self.load_width = pd.Series(dtype=float)\n",
    "        self.purlin_ULS_capacity = pd.Series(dtype=float)\n",
    "        self.purlin_SLS_capacity = pd.Series(dtype=float)\n",
    "        self.purlin_capacities = {}\n",
    "        self.keys = ['ULS Capacity', 'SLS Capacity']\n",
    "        \n",
    "        \n",
    "        # Ask user to input the roof structures measurements from the survey \n",
    "        self.purlin_no = int(input('Please enter the number of purlins: '))\n",
    "        self.span = float(input('Please enter the max purlin span: '))\n",
    "        self.purlin_type = str(input('Please enter purlin type: '))\n",
    "        \n",
    "        \n",
    "        # Ask user to input the spacing between each purlin starting from the lower edge\n",
    "        for i in range(self.purlin_no):\n",
    "            value = float(input(f'Input the spacing between purlin {i} to purlin {i+1}: '))\n",
    "            self.distance_to_next_purlin = self.distance_to_next_purlin.append(pd.Series([value], index=[i])) \n",
    "        \n",
    "        \n",
    "        # Ask user to input the ULS and SLS capacities\n",
    "        for key in self.keys:\n",
    "            self.purlin_capacities[key] = int(input(f'Enter {key} of the purlins: '))\n",
    "        \n",
    "        \n",
    "        # Creates a series of the ULS capacities the same length as the number of purlins to compare \n",
    "        # against calculated values in the final table\n",
    "        for i in range(1, self.purlin_no):\n",
    "            value = self.purlin_capacities['ULS Capacity']\n",
    "            self.purlin_ULS_capacity = self.purlin_ULS_capacity.append(pd.Series([value], index=[i]))\n",
    "        self.purlin_ULS_capacity.name = (self.purlin_type + ' ULS Capacity (kN)')\n",
    "        \n",
    "        \n",
    "        # Creates a series of the SLS capacities the same length as the number of purlins to compare \n",
    "        # against calculated values in the final table\n",
    "        for i in range(1, self.purlin_no):\n",
    "            value = self.purlin_capacities['SLS Capacity']\n",
    "            self.purlin_SLS_capacity = self.purlin_SLS_capacity.append(pd.Series([value], index=[i]))\n",
    "        self.purlin_SLS_capacity.name = (self.purlin_type + ' SLS Capacity (kN)')\n",
    "        \n",
    "        \n",
    "        # Calculates the distance each purlin is from the ridge\n",
    "        self.distance_from_ridge = self.distance_from_ridge.append(pd.Series([self.distance_to_next_purlin.sum()], index=[0]))\n",
    "        for i in range(1, self.purlin_no):\n",
    "            value = self.distance_from_ridge[i-1] - self.distance_to_next_purlin[i-1]\n",
    "            self.distance_from_ridge = self.distance_from_ridge.append(pd.Series([value], index=[i]))\n",
    "        \n",
    "        \n",
    "        # Calculates the load width for each purlin based on their spacing between adjacent purlins\n",
    "        self.load_width = self.load_width.append(pd.Series([self.distance_to_next_purlin[0] + self.distance_to_next_purlin[1]/2], index=[1]))\n",
    "        for i in range(2, self.purlin_no):\n",
    "            value = (self.distance_to_next_purlin[i-1] + self.distance_to_next_purlin[i]) /2\n",
    "            self.load_width = self.load_width.append(pd.Series([value], index=[i]))\n",
    "        \n",
    "    def load_increase_typical_area(self):\n",
    "        sum_1 = self.existing_loading\n",
    "        sum_2 = self.proposed_loading + self.uniform_snow_loading\n",
    "        \n",
    "        percentage_increase_typical = ((sum_2 - sum_1) / sum_1) * 100\n",
    "        return percentage_increase_typical\n",
    "        \n",
    "        \n",
    "    def load_increase_snow_valley(self):\n",
    "        sum_1 = self.dead_loading + self.snow_drift_valley\n",
    "        sum_2 = self.proposed_loading + self.snow_drift_valley\n",
    "\n",
    "        percentage_increase_valley = ((sum_2 - sum_1) / sum_1) * 100\n",
    "        return percentage_increase_valley\n",
    "        \n",
    "        \n",
    "    def load_increase_snow_parapet(self):\n",
    "        sum_1 = self.dead_loading + self.snow_drift_parapet\n",
    "        sum_2 = self.proposed_loading + self.snow_drift_parapet\n",
    "\n",
    "        percentage_increase_parapet = ((sum_2 - sum_1) / sum_1) * 100\n",
    "        return percentage_increase_parapet\n",
    "        \n",
    "        \n",
    "    def existing_LC_BS(self,select):\n",
    "        # Creates an empty dictionary to store the exisitng conditions load combination with \n",
    "        # Britist Standard factors of safety (exist_lc_bs)\n",
    "        exist_lc_bs = {}\n",
    "\n",
    "        # Creating new key value pairs for dictionary 'existing_lc' and calculating load combinations values\n",
    "        exist_lc_bs['exist_lc_1'] = 1.4 * self.dead_loading + 1.6 * (max(self.maintenance, self.uniform_snow_loading))\n",
    "        exist_lc_bs['exist_lc_2'] = 1.4 * self.dead_loading + 1.4 * self.wind_down\n",
    "        exist_lc_bs['exist_lc_3'] = 1.2 * self.dead_loading + 1.2 * self.wind_down + 1.2 * (max(self.maintenance, self.uniform_snow_loading))\n",
    "        exist_lc_bs['exist_lc_4'] = 1.4 * self.dead_loading + 1.05 * self.snow_drift_valley\n",
    "        exist_lc_bs['exist_lc_5'] = 1.4 * self.dead_loading + 1.05 * self.snow_drift_parapet\n",
    "        exist_lc_bs['exist_lc_6'] = 1 * self.dead_loading + 1 * (max(self.maintenance, self.uniform_snow_loading))\n",
    "        exist_lc_bs['exist_lc_7'] = 1 * self.dead_loading + 1 * self.uniform_snow_loading\n",
    "        exist_lc_bs['exist_lc_8'] = 1 * self.dead_loading + 0.8 * self.wind_down + 0.8 * (max(self.maintenance, self.uniform_snow_loading))\n",
    "\n",
    "        # Finding max values for certain load combinations\n",
    "        exist_lc_bs['exist_max_1'] = (max(exist_lc_bs['exist_lc_1'],exist_lc_bs['exist_lc_2'],exist_lc_bs['exist_lc_3'])) \n",
    "        exist_lc_bs['exist_max_2'] = exist_lc_bs['exist_lc_4']\n",
    "        exist_lc_bs['exist_max_3'] = exist_lc_bs['exist_lc_5']\n",
    "        exist_lc_bs['exist_max_4'] = ((max(exist_lc_bs['exist_lc_6'],exist_lc_bs['exist_lc_7'],exist_lc_bs['exist_lc_8'])))\n",
    "        \n",
    "        return exist_lc_bs[select]\n",
    "    \n",
    "    \n",
    "    def proposed_LC_BS(self, select):\n",
    "        # Creates an empty dictionary to store the proposed conditions load combination with \n",
    "        # Britist Standard factors of safety (prop_lc_bs)\n",
    "        prop_lc_bs = {}\n",
    "\n",
    "        # Creating new key value pairs for dictionary 'existing_lc' and calculating load combinations values\n",
    "        prop_lc_bs['prop_lc_1'] = 1.4 * self.dead_loading + 1.6 * (max(self.maintenance,self.uniform_snow_loading))\n",
    "        prop_lc_bs['prop_lc_2'] = 1.4 * self.dead_loading + 1.4 * self.wind_down\n",
    "        prop_lc_bs['prop_lc_3'] = 1.2 * self.dead_loading + 1.2 * self.wind_down + 1.2 * (max(self.maintenance,self.uniform_snow_loading))\n",
    "        prop_lc_bs['prop_lc_4'] = 1.4 * self.dead_loading + 1.05 * self.snow_drift_valley\n",
    "        prop_lc_bs['prop_lc_5'] = 1.4 * self.dead_loading + 1.05 * self.snow_drift_parapet\n",
    "        prop_lc_bs['prop_lc_6'] = 1 * self.dead_loading + 1 * (max(self.maintenance,self.uniform_snow_loading))\n",
    "        prop_lc_bs['prop_lc_7'] = 1 * self.dead_loading + 1 * self.uniform_snow_loading\n",
    "        prop_lc_bs['prop_lc_8'] = 1 * self.dead_loading + 0.8 * self.wind_down + 0.8 * (max(self.maintenance,self.uniform_snow_loading))\n",
    "\n",
    "        # Finding max values for certain groups of load combinations\n",
    "        prop_lc_bs['prop_max_1'] = (max(prop_lc_bs['prop_lc_1'],prop_lc_bs['prop_lc_2'],prop_lc_bs['prop_lc_3'])) \n",
    "        prop_lc_bs['prop_max_2'] = prop_lc_bs['prop_lc_4']\n",
    "        prop_lc_bs['prop_max_3'] = prop_lc_bs['prop_lc_5']\n",
    "        prop_lc_bs['prop_max_4'] = (max(prop_lc_bs['prop_lc_6'],prop_lc_bs['prop_lc_7'],prop_lc_bs['prop_lc_8'])) \n",
    "\n",
    "        return prop_lc_bs[select]"
   ]
  },
  {
   "cell_type": "code",
   "execution_count": 3,
   "id": "e5cfbc0e",
   "metadata": {},
   "outputs": [],
   "source": [
    "class PurlinLoadValley(SolarRoofLoading):\n",
    "\n",
    "    def __init__(self,cladding, services, PV_loading, maintenance, uniform_snow_loading, snow_drift_valley, snow_drift_parapet, wind_down, snow_drift_length):        \n",
    "        self.snow_drift_valley_loads = pd.Series(dtype=float)\n",
    "        self.ULS_load_valley = pd.Series(dtype=float)    \n",
    "        self.total_ULS_load_valley = pd.Series(dtype=float)\n",
    "        self.ULS_check = pd.Series(dtype=float)\n",
    "        super().__init__(cladding, services, PV_loading, maintenance, uniform_snow_loading, snow_drift_valley, snow_drift_parapet, wind_down, snow_drift_length)\n",
    "    \n",
    "    \n",
    "    def purlin_load_valley_calcs(self):   \n",
    "        # Calculates snow drift load based on distance from the ridge\n",
    "        for i in range(1, self.purlin_no):\n",
    "            value = (self.snow_drift_valley * self.distance_from_ridge[i]) / self.distance_from_ridge[0]\n",
    "            self.snow_drift_valley_loads = self.snow_drift_valley_loads.append(pd.Series([value], index=[i]))         \n",
    "        self.snow_drift_valley_loads.name = 'Snow drift loading on purlin (kPa)'\n",
    "\n",
    "        # Calculates ULS load for each purlin from the snow drift for that purlin and the dead loading\n",
    "        for i in range(1, self.purlin_no):\n",
    "            value = 1.4 * self.dead_loading + 1.05 * self.snow_drift_valley_loads[i] \n",
    "            self.ULS_load_valley = self.ULS_load_valley.append(pd.Series([value], index=[i]))\n",
    "        self.ULS_load_valley.name = 'ULS area load on valley purlins (kPa)'\n",
    "\n",
    "        # Calculates the total ULS load on each purlin\n",
    "        for i in range(1, self.purlin_no):\n",
    "            value = self.span * self.ULS_load_valley[i] * self.load_width[i]\n",
    "            self.total_ULS_load_valley = self.total_ULS_load_valley.append(pd.Series([value], index=[i]))  \n",
    "        self.total_ULS_load_valley.name = 'Total ULS load on valley purlins (kN)'\n",
    "\n",
    "        # Checks the calcualted loading against the ULS capacity to be less than the design load\n",
    "        for i in range(1, self.purlin_no):\n",
    "            if self.total_ULS_load_valley[i] <= self.purlin_capacities['ULS Capacity']:\n",
    "                value = 'OK'\n",
    "            else:\n",
    "                value = 'Not OK'\n",
    "            self.ULS_check = self.ULS_check.append(pd.Series([value], index=[i]))\n",
    "        self.ULS_check.name = 'Capacity'\n",
    "\n",
    "        # Combines results of each series and brings them into 1 data frame\n",
    "        df_purlin_load_valley = pd.concat([self.snow_drift_valley_loads, self.ULS_load_valley, self.total_ULS_load_valley, self.purlin_ULS_capacity, self.ULS_check], axis=1)\n",
    "\n",
    "        return df_purlin_load_valley"
   ]
  },
  {
   "cell_type": "code",
   "execution_count": 4,
   "id": "72c625b5",
   "metadata": {},
   "outputs": [],
   "source": [
    "class PurlinLoadParapet(SolarRoofLoading):\n",
    "    \n",
    "    def __init__(self,cladding, services, PV_loading, maintenance, uniform_snow_loading, snow_drift_valley, snow_drift_parapet, wind_down, snow_drift_length):\n",
    "        self.snow_drift_parapet_loads = pd.Series(dtype=float)\n",
    "        self.ULS_load_parapet = pd.Series(dtype=float)   \n",
    "        self.total_ULS_load_parapet = pd.Series(dtype=float)\n",
    "        self.dist_from_end_drift = {}\n",
    "        self.ULS_check = pd.Series(dtype=float)\n",
    "        super().__init__(cladding, services, PV_loading, maintenance, uniform_snow_loading, snow_drift_valley, snow_drift_parapet, wind_down, snow_drift_length)\n",
    "    \n",
    "    \n",
    "    def purlin_load_parapet_calcs(self):\n",
    "        # Works out the distance at which the parapet snow drift will reduced linearly to 0\n",
    "        summ = 0    \n",
    "        while summ <= self.snow_drift_length:  \n",
    "            for i in range(self.purlin_no):\n",
    "                summ += self.distance_to_next_purlin[i]\n",
    "                drift_end = i\n",
    "\n",
    "        # Works out distance of each purlin from the end of the snow drift\n",
    "        self.dist_from_end_drift[1] = self.snow_drift_length - self.distance_to_next_purlin[0]\n",
    "        for i in range(2, drift_end):\n",
    "            self.dist_from_end_drift[i] = self.dist_from_end_drift[i-1] - self.distance_to_next_purlin[i-1]\n",
    "\n",
    "        # Calculates the snow drift parapet loading on each purlin reducing linearly to 0 from the parapet\n",
    "        for i in range(1, drift_end):\n",
    "            value = self.snow_drift_parapet * self.dist_from_end_drift[i] / self.snow_drift_length\n",
    "            self.snow_drift_parapet_loads = self.snow_drift_parapet_loads.append(pd.Series([value], index=[i]))      \n",
    "        self.snow_drift_parapet_loads.name = 'Snow drift loading from parapet (kPa)'\n",
    "\n",
    "        # Calculates ULS area load for each purlin from the snow drift for that purlin and the dead loading\n",
    "        for i in range(1, drift_end):\n",
    "            value = 1.4 * self.dead_loading + 1.05 * self.snow_drift_parapet_loads[i]\n",
    "            self.ULS_load_parapet = self.ULS_load_parapet.append(pd.Series([value], index=[i])) \n",
    "        self.ULS_load_parapet.name = 'ULS area load on parapet purlins (kPa)'  \n",
    "\n",
    "        # Calculates the total ULS load on each purlin from the parapet snow loading\n",
    "        for i in range(1, drift_end):\n",
    "            value = self.span * self.ULS_load_parapet[i] * self.load_width[i]\n",
    "            self.total_ULS_load_parapet = self.total_ULS_load_parapet.append(pd.Series([value], index=[i]))\n",
    "        self.total_ULS_load_parapet.name = 'Total ULS load on parapet purlins (kN)'\n",
    "\n",
    "        # Checks the calcualted loading against the ULS capacity to be less than the design load\n",
    "        for i in range(1, drift_end):\n",
    "            if self.total_ULS_load_parapet[i] <= self.purlin_capacities['ULS Capacity']:\n",
    "                value = 'OK'\n",
    "            else:\n",
    "                value = 'Not OK'\n",
    "            self.ULS_check = self.ULS_check.append(pd.Series([value], index=[i]))\n",
    "        self.ULS_check.name = 'Capacity'\n",
    "\n",
    "        # Combines results of each series and brings them into 1 data frame\n",
    "        df_purlin_load_parapet = pd.concat([self.snow_drift_parapet_loads, self.ULS_load_parapet, self.total_ULS_load_parapet, self.purlin_ULS_capacity, self.ULS_check], axis=1)  \n",
    "\n",
    "        return df_purlin_load_parapet"
   ]
  },
  {
   "cell_type": "code",
   "execution_count": 5,
   "id": "52c30357",
   "metadata": {},
   "outputs": [],
   "source": [
    "class PurlinLoadExisting(SolarRoofLoading):\n",
    "    \n",
    "    def __init__(self, cladding, services, PV_loading, maintenance, uniform_snow_loading, snow_drift_valley, snow_drift_parapet, wind_down, snow_drift_length):\n",
    "        self.exist_ULS_load = pd.Series(dtype=float)\n",
    "        self.exist_SLS_load = pd.Series(dtype=float)\n",
    "        self.ULS_check = pd.Series(dtype=float)\n",
    "        self.SLS_check = pd.Series(dtype=float)\n",
    "        super().__init__(cladding, services, PV_loading, maintenance, uniform_snow_loading, snow_drift_valley, snow_drift_parapet, wind_down, snow_drift_length)\n",
    "        \n",
    "    def purlin_load_existing_calcs(self):\n",
    "        # Calculates the total existing ULS load on each purlin\n",
    "        for i in range(1, self.purlin_no):\n",
    "            value = self.span * self.existing_LC_BS('exist_max_1') * self.load_width[i]\n",
    "            self.exist_ULS_load = self.exist_ULS_load.append(pd.Series([value], index=[i])) \n",
    "        self.exist_ULS_load.name = 'Total existing ULS load on purlins (kN)'\n",
    "\n",
    "        # Calculates the total existing SLS load on each purlin\n",
    "        for i in range(1, self.purlin_no):\n",
    "            value = self.span * self.existing_LC_BS('exist_max_4') * self.load_width[i]\n",
    "            self.exist_SLS_load = self.exist_SLS_load.append(pd.Series([value], index=[i])) \n",
    "        self.exist_SLS_load.name = 'Total existing SLS load on purlins (kN)'\n",
    "\n",
    "        # Checks the calcualted loading against the ULS capacity to be less than the design load\n",
    "        for i in range(1, self.purlin_no):\n",
    "            if self.exist_ULS_load[i] <= self.purlin_capacities['ULS Capacity']:\n",
    "                value = 'OK'\n",
    "            else:\n",
    "                value = 'Not OK'\n",
    "            self.ULS_check = self.ULS_check.append(pd.Series([value], index=[i]))\n",
    "        self.ULS_check.name = 'ULS Capacity'\n",
    "\n",
    "        # Checks the calcualted loading against the SLS capacity to be less than the design load\n",
    "        for i in range(1, self.purlin_no):\n",
    "            if self.exist_SLS_load[i] <= self.purlin_capacities['SLS Capacity']:\n",
    "                value = 'OK'\n",
    "            else:\n",
    "                value = 'Not OK'\n",
    "            self.SLS_check = self.SLS_check.append(pd.Series([value], index=[i]))\n",
    "        self.SLS_check.name = 'SLS Capacity'\n",
    "\n",
    "        # Combines results of each series and brings them into 1 data frame\n",
    "        df_purlin_load_existing = pd.concat([self.exist_ULS_load, self.purlin_ULS_capacity, self.ULS_check, self.exist_SLS_load, self.purlin_SLS_capacity, self.SLS_check], axis=1)  \n",
    "\n",
    "        return df_purlin_load_existing"
   ]
  },
  {
   "cell_type": "code",
   "execution_count": 6,
   "id": "93dd9761",
   "metadata": {},
   "outputs": [],
   "source": [
    "class PurlinLoadProposed(SolarRoofLoading):\n",
    "    \n",
    "    def __init__(self, cladding, services, PV_loading, maintenance, uniform_snow_loading, snow_drift_valley, snow_drift_parapet, wind_down, snow_drift_length):\n",
    "\n",
    "        # Empty dictionaries to store calculation values for the proposed loading on the purlins\n",
    "        self.prop_ULS_load = pd.Series(dtype=float)\n",
    "        self.prop_SLS_load = pd.Series(dtype=float)\n",
    "        self.ULS_check = pd.Series(dtype=float)\n",
    "        self.SLS_check = pd.Series(dtype=float)\n",
    "        super().__init__(cladding, services, PV_loading, maintenance, uniform_snow_loading, snow_drift_valley, snow_drift_parapet, wind_down, snow_drift_length)\n",
    "    \n",
    "    def purlin_load_proposed_calcs(self):\n",
    "    \n",
    "        # Calculates the total proposed ULS load on each purlin\n",
    "        for i in range(1, self.purlin_no):\n",
    "            value = self.span * self.proposed_LC_BS('prop_max_1') * self.load_width[i]\n",
    "            self.prop_ULS_load = self.prop_ULS_load.append(pd.Series([value], index=[i])) \n",
    "        self.prop_ULS_load.name = 'Total proposed ULS load on purlins (kN)'\n",
    "\n",
    "        # Calculates the total proposed SLS load on each purlin\n",
    "        self.proposed_LC_BS('prop_max_4')\n",
    "        for i in range(1,self.purlin_no):\n",
    "            value = self.span * self.proposed_LC_BS('prop_max_4') * self.load_width[i]\n",
    "            self.prop_SLS_load = self.prop_SLS_load.append(pd.Series([value], index=[i]))\n",
    "        self.prop_SLS_load.name = 'Total proposed SLS load on purlins (kN)'  \n",
    "\n",
    "         # Checks the calcualted loading against the ULS capacity to be less than the design load\n",
    "        for i in range(1, self.purlin_no):\n",
    "            if self.prop_ULS_load[i] <= self.purlin_capacities['ULS Capacity']:\n",
    "                value = 'OK'\n",
    "            else:\n",
    "                value = 'Not OK'\n",
    "            self.ULS_check = self.ULS_check.append(pd.Series([value], index=[i]))\n",
    "        self.ULS_check.name = 'ULS Capacity'\n",
    "\n",
    "        # Checks the calcualted loading against the SLS capacity to be less than the design load\n",
    "        for i in range(1, self.purlin_no):\n",
    "            if self.prop_SLS_load[i] <= self.purlin_capacities['ULS Capacity']:\n",
    "                value = 'OK'\n",
    "            else:\n",
    "                value = 'Not OK'\n",
    "            self.ULS_check = self.ULS_check.append(pd.Series([value], index=[i]))\n",
    "        self.ULS_check.name = 'SLS Capacity'\n",
    "\n",
    "         # Combines results of each series and brings them into 1 data frame\n",
    "        df_purlin_load_proposed = pd.concat([self.purlin_ULS_capacity, self.ULS_check, self.purlin_SLS_capacity, self.SLS_check], axis=1)       \n",
    "\n",
    "        return df_purlin_load_proposed"
   ]
  },
  {
   "cell_type": "code",
   "execution_count": 7,
   "id": "9dc1ddad",
   "metadata": {},
   "outputs": [
    {
     "name": "stdout",
     "output_type": "stream",
     "text": [
      "Please enter the number of purlins: 5\n",
      "Please enter the max purlin span: 6\n",
      "Please enter purlin type: Metsec\n",
      "Input the spacing between purlin 0 to purlin 1: 2\n"
     ]
    },
    {
     "name": "stderr",
     "output_type": "stream",
     "text": [
      "C:\\Users\\User\\AppData\\Local\\Temp\\ipykernel_19108\\400752581.py:39: FutureWarning: The series.append method is deprecated and will be removed from pandas in a future version. Use pandas.concat instead.\n",
      "  self.distance_to_next_purlin = self.distance_to_next_purlin.append(pd.Series([value], index=[i]))\n"
     ]
    },
    {
     "name": "stdout",
     "output_type": "stream",
     "text": [
      "Input the spacing between purlin 1 to purlin 2: 2\n"
     ]
    },
    {
     "name": "stderr",
     "output_type": "stream",
     "text": [
      "C:\\Users\\User\\AppData\\Local\\Temp\\ipykernel_19108\\400752581.py:39: FutureWarning: The series.append method is deprecated and will be removed from pandas in a future version. Use pandas.concat instead.\n",
      "  self.distance_to_next_purlin = self.distance_to_next_purlin.append(pd.Series([value], index=[i]))\n"
     ]
    },
    {
     "name": "stdout",
     "output_type": "stream",
     "text": [
      "Input the spacing between purlin 2 to purlin 3: 2\n"
     ]
    },
    {
     "name": "stderr",
     "output_type": "stream",
     "text": [
      "C:\\Users\\User\\AppData\\Local\\Temp\\ipykernel_19108\\400752581.py:39: FutureWarning: The series.append method is deprecated and will be removed from pandas in a future version. Use pandas.concat instead.\n",
      "  self.distance_to_next_purlin = self.distance_to_next_purlin.append(pd.Series([value], index=[i]))\n"
     ]
    },
    {
     "name": "stdout",
     "output_type": "stream",
     "text": [
      "Input the spacing between purlin 3 to purlin 4: 2\n"
     ]
    },
    {
     "name": "stderr",
     "output_type": "stream",
     "text": [
      "C:\\Users\\User\\AppData\\Local\\Temp\\ipykernel_19108\\400752581.py:39: FutureWarning: The series.append method is deprecated and will be removed from pandas in a future version. Use pandas.concat instead.\n",
      "  self.distance_to_next_purlin = self.distance_to_next_purlin.append(pd.Series([value], index=[i]))\n"
     ]
    },
    {
     "name": "stdout",
     "output_type": "stream",
     "text": [
      "Input the spacing between purlin 4 to purlin 5: 2\n"
     ]
    },
    {
     "name": "stderr",
     "output_type": "stream",
     "text": [
      "C:\\Users\\User\\AppData\\Local\\Temp\\ipykernel_19108\\400752581.py:39: FutureWarning: The series.append method is deprecated and will be removed from pandas in a future version. Use pandas.concat instead.\n",
      "  self.distance_to_next_purlin = self.distance_to_next_purlin.append(pd.Series([value], index=[i]))\n"
     ]
    },
    {
     "name": "stdout",
     "output_type": "stream",
     "text": [
      "Enter ULS Capacity of the purlins: 15\n",
      "Enter SLS Capacity of the purlins: 12\n"
     ]
    },
    {
     "name": "stderr",
     "output_type": "stream",
     "text": [
      "C:\\Users\\User\\AppData\\Local\\Temp\\ipykernel_19108\\400752581.py:51: FutureWarning: The series.append method is deprecated and will be removed from pandas in a future version. Use pandas.concat instead.\n",
      "  self.purlin_ULS_capacity = self.purlin_ULS_capacity.append(pd.Series([value], index=[i]))\n",
      "C:\\Users\\User\\AppData\\Local\\Temp\\ipykernel_19108\\400752581.py:51: FutureWarning: The series.append method is deprecated and will be removed from pandas in a future version. Use pandas.concat instead.\n",
      "  self.purlin_ULS_capacity = self.purlin_ULS_capacity.append(pd.Series([value], index=[i]))\n",
      "C:\\Users\\User\\AppData\\Local\\Temp\\ipykernel_19108\\400752581.py:51: FutureWarning: The series.append method is deprecated and will be removed from pandas in a future version. Use pandas.concat instead.\n",
      "  self.purlin_ULS_capacity = self.purlin_ULS_capacity.append(pd.Series([value], index=[i]))\n",
      "C:\\Users\\User\\AppData\\Local\\Temp\\ipykernel_19108\\400752581.py:51: FutureWarning: The series.append method is deprecated and will be removed from pandas in a future version. Use pandas.concat instead.\n",
      "  self.purlin_ULS_capacity = self.purlin_ULS_capacity.append(pd.Series([value], index=[i]))\n",
      "C:\\Users\\User\\AppData\\Local\\Temp\\ipykernel_19108\\400752581.py:59: FutureWarning: The series.append method is deprecated and will be removed from pandas in a future version. Use pandas.concat instead.\n",
      "  self.purlin_SLS_capacity = self.purlin_SLS_capacity.append(pd.Series([value], index=[i]))\n",
      "C:\\Users\\User\\AppData\\Local\\Temp\\ipykernel_19108\\400752581.py:59: FutureWarning: The series.append method is deprecated and will be removed from pandas in a future version. Use pandas.concat instead.\n",
      "  self.purlin_SLS_capacity = self.purlin_SLS_capacity.append(pd.Series([value], index=[i]))\n",
      "C:\\Users\\User\\AppData\\Local\\Temp\\ipykernel_19108\\400752581.py:59: FutureWarning: The series.append method is deprecated and will be removed from pandas in a future version. Use pandas.concat instead.\n",
      "  self.purlin_SLS_capacity = self.purlin_SLS_capacity.append(pd.Series([value], index=[i]))\n",
      "C:\\Users\\User\\AppData\\Local\\Temp\\ipykernel_19108\\400752581.py:59: FutureWarning: The series.append method is deprecated and will be removed from pandas in a future version. Use pandas.concat instead.\n",
      "  self.purlin_SLS_capacity = self.purlin_SLS_capacity.append(pd.Series([value], index=[i]))\n",
      "C:\\Users\\User\\AppData\\Local\\Temp\\ipykernel_19108\\400752581.py:64: FutureWarning: The series.append method is deprecated and will be removed from pandas in a future version. Use pandas.concat instead.\n",
      "  self.distance_from_ridge = self.distance_from_ridge.append(pd.Series([self.distance_to_next_purlin.sum()], index=[0]))\n",
      "C:\\Users\\User\\AppData\\Local\\Temp\\ipykernel_19108\\400752581.py:67: FutureWarning: The series.append method is deprecated and will be removed from pandas in a future version. Use pandas.concat instead.\n",
      "  self.distance_from_ridge = self.distance_from_ridge.append(pd.Series([value], index=[i]))\n",
      "C:\\Users\\User\\AppData\\Local\\Temp\\ipykernel_19108\\400752581.py:67: FutureWarning: The series.append method is deprecated and will be removed from pandas in a future version. Use pandas.concat instead.\n",
      "  self.distance_from_ridge = self.distance_from_ridge.append(pd.Series([value], index=[i]))\n",
      "C:\\Users\\User\\AppData\\Local\\Temp\\ipykernel_19108\\400752581.py:67: FutureWarning: The series.append method is deprecated and will be removed from pandas in a future version. Use pandas.concat instead.\n",
      "  self.distance_from_ridge = self.distance_from_ridge.append(pd.Series([value], index=[i]))\n",
      "C:\\Users\\User\\AppData\\Local\\Temp\\ipykernel_19108\\400752581.py:67: FutureWarning: The series.append method is deprecated and will be removed from pandas in a future version. Use pandas.concat instead.\n",
      "  self.distance_from_ridge = self.distance_from_ridge.append(pd.Series([value], index=[i]))\n",
      "C:\\Users\\User\\AppData\\Local\\Temp\\ipykernel_19108\\400752581.py:71: FutureWarning: The series.append method is deprecated and will be removed from pandas in a future version. Use pandas.concat instead.\n",
      "  self.load_width = self.load_width.append(pd.Series([self.distance_to_next_purlin[0] + self.distance_to_next_purlin[1]/2], index=[1]))\n",
      "C:\\Users\\User\\AppData\\Local\\Temp\\ipykernel_19108\\400752581.py:74: FutureWarning: The series.append method is deprecated and will be removed from pandas in a future version. Use pandas.concat instead.\n",
      "  self.load_width = self.load_width.append(pd.Series([value], index=[i]))\n",
      "C:\\Users\\User\\AppData\\Local\\Temp\\ipykernel_19108\\400752581.py:74: FutureWarning: The series.append method is deprecated and will be removed from pandas in a future version. Use pandas.concat instead.\n",
      "  self.load_width = self.load_width.append(pd.Series([value], index=[i]))\n",
      "C:\\Users\\User\\AppData\\Local\\Temp\\ipykernel_19108\\400752581.py:74: FutureWarning: The series.append method is deprecated and will be removed from pandas in a future version. Use pandas.concat instead.\n",
      "  self.load_width = self.load_width.append(pd.Series([value], index=[i]))\n"
     ]
    }
   ],
   "source": [
    "purlin_test = PurlinLoadValley(0.15,0.25,0.15,0.6,0.3,1.2,1.2,0.3,6)"
   ]
  },
  {
   "cell_type": "code",
   "execution_count": 17,
   "id": "10558098",
   "metadata": {},
   "outputs": [
    {
     "name": "stderr",
     "output_type": "stream",
     "text": [
      "C:\\Users\\User\\AppData\\Local\\Temp\\ipykernel_19108\\1257202728.py:15: FutureWarning: The series.append method is deprecated and will be removed from pandas in a future version. Use pandas.concat instead.\n",
      "  self.snow_drift_valley_loads = self.snow_drift_valley_loads.append(pd.Series([value], index=[i]))\n",
      "C:\\Users\\User\\AppData\\Local\\Temp\\ipykernel_19108\\1257202728.py:15: FutureWarning: The series.append method is deprecated and will be removed from pandas in a future version. Use pandas.concat instead.\n",
      "  self.snow_drift_valley_loads = self.snow_drift_valley_loads.append(pd.Series([value], index=[i]))\n",
      "C:\\Users\\User\\AppData\\Local\\Temp\\ipykernel_19108\\1257202728.py:15: FutureWarning: The series.append method is deprecated and will be removed from pandas in a future version. Use pandas.concat instead.\n",
      "  self.snow_drift_valley_loads = self.snow_drift_valley_loads.append(pd.Series([value], index=[i]))\n",
      "C:\\Users\\User\\AppData\\Local\\Temp\\ipykernel_19108\\1257202728.py:15: FutureWarning: The series.append method is deprecated and will be removed from pandas in a future version. Use pandas.concat instead.\n",
      "  self.snow_drift_valley_loads = self.snow_drift_valley_loads.append(pd.Series([value], index=[i]))\n",
      "C:\\Users\\User\\AppData\\Local\\Temp\\ipykernel_19108\\1257202728.py:21: FutureWarning: The series.append method is deprecated and will be removed from pandas in a future version. Use pandas.concat instead.\n",
      "  self.ULS_load_valley = self.ULS_load_valley.append(pd.Series([value], index=[i]))\n",
      "C:\\Users\\User\\AppData\\Local\\Temp\\ipykernel_19108\\1257202728.py:21: FutureWarning: The series.append method is deprecated and will be removed from pandas in a future version. Use pandas.concat instead.\n",
      "  self.ULS_load_valley = self.ULS_load_valley.append(pd.Series([value], index=[i]))\n",
      "C:\\Users\\User\\AppData\\Local\\Temp\\ipykernel_19108\\1257202728.py:21: FutureWarning: The series.append method is deprecated and will be removed from pandas in a future version. Use pandas.concat instead.\n",
      "  self.ULS_load_valley = self.ULS_load_valley.append(pd.Series([value], index=[i]))\n",
      "C:\\Users\\User\\AppData\\Local\\Temp\\ipykernel_19108\\1257202728.py:21: FutureWarning: The series.append method is deprecated and will be removed from pandas in a future version. Use pandas.concat instead.\n",
      "  self.ULS_load_valley = self.ULS_load_valley.append(pd.Series([value], index=[i]))\n",
      "C:\\Users\\User\\AppData\\Local\\Temp\\ipykernel_19108\\1257202728.py:27: FutureWarning: The series.append method is deprecated and will be removed from pandas in a future version. Use pandas.concat instead.\n",
      "  self.total_ULS_load_valley = self.total_ULS_load_valley.append(pd.Series([value], index=[i]))\n",
      "C:\\Users\\User\\AppData\\Local\\Temp\\ipykernel_19108\\1257202728.py:27: FutureWarning: The series.append method is deprecated and will be removed from pandas in a future version. Use pandas.concat instead.\n",
      "  self.total_ULS_load_valley = self.total_ULS_load_valley.append(pd.Series([value], index=[i]))\n",
      "C:\\Users\\User\\AppData\\Local\\Temp\\ipykernel_19108\\1257202728.py:27: FutureWarning: The series.append method is deprecated and will be removed from pandas in a future version. Use pandas.concat instead.\n",
      "  self.total_ULS_load_valley = self.total_ULS_load_valley.append(pd.Series([value], index=[i]))\n",
      "C:\\Users\\User\\AppData\\Local\\Temp\\ipykernel_19108\\1257202728.py:27: FutureWarning: The series.append method is deprecated and will be removed from pandas in a future version. Use pandas.concat instead.\n",
      "  self.total_ULS_load_valley = self.total_ULS_load_valley.append(pd.Series([value], index=[i]))\n"
     ]
    },
    {
     "ename": "ValueError",
     "evalue": "The truth value of a Series is ambiguous. Use a.empty, a.bool(), a.item(), a.any() or a.all().",
     "output_type": "error",
     "traceback": [
      "\u001b[1;31m---------------------------------------------------------------------------\u001b[0m",
      "\u001b[1;31mValueError\u001b[0m                                Traceback (most recent call last)",
      "Cell \u001b[1;32mIn[17], line 1\u001b[0m\n\u001b[1;32m----> 1\u001b[0m \u001b[43mpurlin_test\u001b[49m\u001b[38;5;241;43m.\u001b[39;49m\u001b[43mpurlin_load_valley_calcs\u001b[49m\u001b[43m(\u001b[49m\u001b[43m)\u001b[49m\n",
      "Cell \u001b[1;32mIn[3], line 32\u001b[0m, in \u001b[0;36mPurlinLoadValley.purlin_load_valley_calcs\u001b[1;34m(self)\u001b[0m\n\u001b[0;32m     30\u001b[0m \u001b[38;5;66;03m# Checks the calcualted loading against the ULS capacity to be less than the design load\u001b[39;00m\n\u001b[0;32m     31\u001b[0m \u001b[38;5;28;01mfor\u001b[39;00m i \u001b[38;5;129;01min\u001b[39;00m \u001b[38;5;28mrange\u001b[39m(\u001b[38;5;241m1\u001b[39m, \u001b[38;5;28mself\u001b[39m\u001b[38;5;241m.\u001b[39mpurlin_no):\n\u001b[1;32m---> 32\u001b[0m     \u001b[38;5;28;01mif\u001b[39;00m \u001b[38;5;28;43mself\u001b[39;49m\u001b[38;5;241;43m.\u001b[39;49m\u001b[43mtotal_ULS_load_valley\u001b[49m\u001b[43m[\u001b[49m\u001b[43mi\u001b[49m\u001b[43m]\u001b[49m\u001b[43m \u001b[49m\u001b[38;5;241;43m<\u001b[39;49m\u001b[38;5;241;43m=\u001b[39;49m\u001b[43m \u001b[49m\u001b[38;5;28;43mself\u001b[39;49m\u001b[38;5;241;43m.\u001b[39;49m\u001b[43mpurlin_capacities\u001b[49m\u001b[43m[\u001b[49m\u001b[38;5;124;43m'\u001b[39;49m\u001b[38;5;124;43mULS Capacity\u001b[39;49m\u001b[38;5;124;43m'\u001b[39;49m\u001b[43m]\u001b[49m:\n\u001b[0;32m     33\u001b[0m         value \u001b[38;5;241m=\u001b[39m \u001b[38;5;124m'\u001b[39m\u001b[38;5;124mOK\u001b[39m\u001b[38;5;124m'\u001b[39m\n\u001b[0;32m     34\u001b[0m     \u001b[38;5;28;01melse\u001b[39;00m:\n",
      "File \u001b[1;32m~\\anaconda3\\lib\\site-packages\\pandas\\core\\ops\\common.py:72\u001b[0m, in \u001b[0;36m_unpack_zerodim_and_defer.<locals>.new_method\u001b[1;34m(self, other)\u001b[0m\n\u001b[0;32m     68\u001b[0m             \u001b[38;5;28;01mreturn\u001b[39;00m \u001b[38;5;28mNotImplemented\u001b[39m\n\u001b[0;32m     70\u001b[0m other \u001b[38;5;241m=\u001b[39m item_from_zerodim(other)\n\u001b[1;32m---> 72\u001b[0m \u001b[38;5;28;01mreturn\u001b[39;00m \u001b[43mmethod\u001b[49m\u001b[43m(\u001b[49m\u001b[38;5;28;43mself\u001b[39;49m\u001b[43m,\u001b[49m\u001b[43m \u001b[49m\u001b[43mother\u001b[49m\u001b[43m)\u001b[49m\n",
      "File \u001b[1;32m~\\anaconda3\\lib\\site-packages\\pandas\\core\\arraylike.py:54\u001b[0m, in \u001b[0;36mOpsMixin.__le__\u001b[1;34m(self, other)\u001b[0m\n\u001b[0;32m     52\u001b[0m \u001b[38;5;129m@unpack_zerodim_and_defer\u001b[39m(\u001b[38;5;124m\"\u001b[39m\u001b[38;5;124m__le__\u001b[39m\u001b[38;5;124m\"\u001b[39m)\n\u001b[0;32m     53\u001b[0m \u001b[38;5;28;01mdef\u001b[39;00m \u001b[38;5;21m__le__\u001b[39m(\u001b[38;5;28mself\u001b[39m, other):\n\u001b[1;32m---> 54\u001b[0m     \u001b[38;5;28;01mreturn\u001b[39;00m \u001b[38;5;28;43mself\u001b[39;49m\u001b[38;5;241;43m.\u001b[39;49m\u001b[43m_cmp_method\u001b[49m\u001b[43m(\u001b[49m\u001b[43mother\u001b[49m\u001b[43m,\u001b[49m\u001b[43m \u001b[49m\u001b[43moperator\u001b[49m\u001b[38;5;241;43m.\u001b[39;49m\u001b[43mle\u001b[49m\u001b[43m)\u001b[49m\n",
      "File \u001b[1;32m~\\anaconda3\\lib\\site-packages\\pandas\\core\\series.py:6243\u001b[0m, in \u001b[0;36mSeries._cmp_method\u001b[1;34m(self, other, op)\u001b[0m\n\u001b[0;32m   6240\u001b[0m rvalues \u001b[38;5;241m=\u001b[39m extract_array(other, extract_numpy\u001b[38;5;241m=\u001b[39m\u001b[38;5;28;01mTrue\u001b[39;00m, extract_range\u001b[38;5;241m=\u001b[39m\u001b[38;5;28;01mTrue\u001b[39;00m)\n\u001b[0;32m   6242\u001b[0m \u001b[38;5;28;01mwith\u001b[39;00m np\u001b[38;5;241m.\u001b[39merrstate(\u001b[38;5;28mall\u001b[39m\u001b[38;5;241m=\u001b[39m\u001b[38;5;124m\"\u001b[39m\u001b[38;5;124mignore\u001b[39m\u001b[38;5;124m\"\u001b[39m):\n\u001b[1;32m-> 6243\u001b[0m     res_values \u001b[38;5;241m=\u001b[39m \u001b[43mops\u001b[49m\u001b[38;5;241;43m.\u001b[39;49m\u001b[43mcomparison_op\u001b[49m\u001b[43m(\u001b[49m\u001b[43mlvalues\u001b[49m\u001b[43m,\u001b[49m\u001b[43m \u001b[49m\u001b[43mrvalues\u001b[49m\u001b[43m,\u001b[49m\u001b[43m \u001b[49m\u001b[43mop\u001b[49m\u001b[43m)\u001b[49m\n\u001b[0;32m   6245\u001b[0m \u001b[38;5;28;01mreturn\u001b[39;00m \u001b[38;5;28mself\u001b[39m\u001b[38;5;241m.\u001b[39m_construct_result(res_values, name\u001b[38;5;241m=\u001b[39mres_name)\n",
      "File \u001b[1;32m~\\anaconda3\\lib\\site-packages\\pandas\\core\\ops\\array_ops.py:287\u001b[0m, in \u001b[0;36mcomparison_op\u001b[1;34m(left, right, op)\u001b[0m\n\u001b[0;32m    284\u001b[0m     \u001b[38;5;28;01mreturn\u001b[39;00m invalid_comparison(lvalues, rvalues, op)\n\u001b[0;32m    286\u001b[0m \u001b[38;5;28;01melif\u001b[39;00m is_object_dtype(lvalues\u001b[38;5;241m.\u001b[39mdtype) \u001b[38;5;129;01mor\u001b[39;00m \u001b[38;5;28misinstance\u001b[39m(rvalues, \u001b[38;5;28mstr\u001b[39m):\n\u001b[1;32m--> 287\u001b[0m     res_values \u001b[38;5;241m=\u001b[39m \u001b[43mcomp_method_OBJECT_ARRAY\u001b[49m\u001b[43m(\u001b[49m\u001b[43mop\u001b[49m\u001b[43m,\u001b[49m\u001b[43m \u001b[49m\u001b[43mlvalues\u001b[49m\u001b[43m,\u001b[49m\u001b[43m \u001b[49m\u001b[43mrvalues\u001b[49m\u001b[43m)\u001b[49m\n\u001b[0;32m    289\u001b[0m \u001b[38;5;28;01melse\u001b[39;00m:\n\u001b[0;32m    290\u001b[0m     res_values \u001b[38;5;241m=\u001b[39m _na_arithmetic_op(lvalues, rvalues, op, is_cmp\u001b[38;5;241m=\u001b[39m\u001b[38;5;28;01mTrue\u001b[39;00m)\n",
      "File \u001b[1;32m~\\anaconda3\\lib\\site-packages\\pandas\\core\\ops\\array_ops.py:75\u001b[0m, in \u001b[0;36mcomp_method_OBJECT_ARRAY\u001b[1;34m(op, x, y)\u001b[0m\n\u001b[0;32m     73\u001b[0m     result \u001b[38;5;241m=\u001b[39m libops\u001b[38;5;241m.\u001b[39mvec_compare(x\u001b[38;5;241m.\u001b[39mravel(), y\u001b[38;5;241m.\u001b[39mravel(), op)\n\u001b[0;32m     74\u001b[0m \u001b[38;5;28;01melse\u001b[39;00m:\n\u001b[1;32m---> 75\u001b[0m     result \u001b[38;5;241m=\u001b[39m \u001b[43mlibops\u001b[49m\u001b[38;5;241;43m.\u001b[39;49m\u001b[43mscalar_compare\u001b[49m\u001b[43m(\u001b[49m\u001b[43mx\u001b[49m\u001b[38;5;241;43m.\u001b[39;49m\u001b[43mravel\u001b[49m\u001b[43m(\u001b[49m\u001b[43m)\u001b[49m\u001b[43m,\u001b[49m\u001b[43m \u001b[49m\u001b[43my\u001b[49m\u001b[43m,\u001b[49m\u001b[43m \u001b[49m\u001b[43mop\u001b[49m\u001b[43m)\u001b[49m\n\u001b[0;32m     76\u001b[0m \u001b[38;5;28;01mreturn\u001b[39;00m result\u001b[38;5;241m.\u001b[39mreshape(x\u001b[38;5;241m.\u001b[39mshape)\n",
      "File \u001b[1;32m~\\anaconda3\\lib\\site-packages\\pandas\\_libs\\ops.pyx:107\u001b[0m, in \u001b[0;36mpandas._libs.ops.scalar_compare\u001b[1;34m()\u001b[0m\n",
      "File \u001b[1;32m~\\anaconda3\\lib\\site-packages\\pandas\\core\\ops\\common.py:72\u001b[0m, in \u001b[0;36m_unpack_zerodim_and_defer.<locals>.new_method\u001b[1;34m(self, other)\u001b[0m\n\u001b[0;32m     68\u001b[0m             \u001b[38;5;28;01mreturn\u001b[39;00m \u001b[38;5;28mNotImplemented\u001b[39m\n\u001b[0;32m     70\u001b[0m other \u001b[38;5;241m=\u001b[39m item_from_zerodim(other)\n\u001b[1;32m---> 72\u001b[0m \u001b[38;5;28;01mreturn\u001b[39;00m \u001b[43mmethod\u001b[49m\u001b[43m(\u001b[49m\u001b[38;5;28;43mself\u001b[39;49m\u001b[43m,\u001b[49m\u001b[43m \u001b[49m\u001b[43mother\u001b[49m\u001b[43m)\u001b[49m\n",
      "File \u001b[1;32m~\\anaconda3\\lib\\site-packages\\pandas\\core\\arraylike.py:54\u001b[0m, in \u001b[0;36mOpsMixin.__le__\u001b[1;34m(self, other)\u001b[0m\n\u001b[0;32m     52\u001b[0m \u001b[38;5;129m@unpack_zerodim_and_defer\u001b[39m(\u001b[38;5;124m\"\u001b[39m\u001b[38;5;124m__le__\u001b[39m\u001b[38;5;124m\"\u001b[39m)\n\u001b[0;32m     53\u001b[0m \u001b[38;5;28;01mdef\u001b[39;00m \u001b[38;5;21m__le__\u001b[39m(\u001b[38;5;28mself\u001b[39m, other):\n\u001b[1;32m---> 54\u001b[0m     \u001b[38;5;28;01mreturn\u001b[39;00m \u001b[38;5;28;43mself\u001b[39;49m\u001b[38;5;241;43m.\u001b[39;49m\u001b[43m_cmp_method\u001b[49m\u001b[43m(\u001b[49m\u001b[43mother\u001b[49m\u001b[43m,\u001b[49m\u001b[43m \u001b[49m\u001b[43moperator\u001b[49m\u001b[38;5;241;43m.\u001b[39;49m\u001b[43mle\u001b[49m\u001b[43m)\u001b[49m\n",
      "File \u001b[1;32m~\\anaconda3\\lib\\site-packages\\pandas\\core\\series.py:6243\u001b[0m, in \u001b[0;36mSeries._cmp_method\u001b[1;34m(self, other, op)\u001b[0m\n\u001b[0;32m   6240\u001b[0m rvalues \u001b[38;5;241m=\u001b[39m extract_array(other, extract_numpy\u001b[38;5;241m=\u001b[39m\u001b[38;5;28;01mTrue\u001b[39;00m, extract_range\u001b[38;5;241m=\u001b[39m\u001b[38;5;28;01mTrue\u001b[39;00m)\n\u001b[0;32m   6242\u001b[0m \u001b[38;5;28;01mwith\u001b[39;00m np\u001b[38;5;241m.\u001b[39merrstate(\u001b[38;5;28mall\u001b[39m\u001b[38;5;241m=\u001b[39m\u001b[38;5;124m\"\u001b[39m\u001b[38;5;124mignore\u001b[39m\u001b[38;5;124m\"\u001b[39m):\n\u001b[1;32m-> 6243\u001b[0m     res_values \u001b[38;5;241m=\u001b[39m \u001b[43mops\u001b[49m\u001b[38;5;241;43m.\u001b[39;49m\u001b[43mcomparison_op\u001b[49m\u001b[43m(\u001b[49m\u001b[43mlvalues\u001b[49m\u001b[43m,\u001b[49m\u001b[43m \u001b[49m\u001b[43mrvalues\u001b[49m\u001b[43m,\u001b[49m\u001b[43m \u001b[49m\u001b[43mop\u001b[49m\u001b[43m)\u001b[49m\n\u001b[0;32m   6245\u001b[0m \u001b[38;5;28;01mreturn\u001b[39;00m \u001b[38;5;28mself\u001b[39m\u001b[38;5;241m.\u001b[39m_construct_result(res_values, name\u001b[38;5;241m=\u001b[39mres_name)\n",
      "File \u001b[1;32m~\\anaconda3\\lib\\site-packages\\pandas\\core\\ops\\array_ops.py:287\u001b[0m, in \u001b[0;36mcomparison_op\u001b[1;34m(left, right, op)\u001b[0m\n\u001b[0;32m    284\u001b[0m     \u001b[38;5;28;01mreturn\u001b[39;00m invalid_comparison(lvalues, rvalues, op)\n\u001b[0;32m    286\u001b[0m \u001b[38;5;28;01melif\u001b[39;00m is_object_dtype(lvalues\u001b[38;5;241m.\u001b[39mdtype) \u001b[38;5;129;01mor\u001b[39;00m \u001b[38;5;28misinstance\u001b[39m(rvalues, \u001b[38;5;28mstr\u001b[39m):\n\u001b[1;32m--> 287\u001b[0m     res_values \u001b[38;5;241m=\u001b[39m \u001b[43mcomp_method_OBJECT_ARRAY\u001b[49m\u001b[43m(\u001b[49m\u001b[43mop\u001b[49m\u001b[43m,\u001b[49m\u001b[43m \u001b[49m\u001b[43mlvalues\u001b[49m\u001b[43m,\u001b[49m\u001b[43m \u001b[49m\u001b[43mrvalues\u001b[49m\u001b[43m)\u001b[49m\n\u001b[0;32m    289\u001b[0m \u001b[38;5;28;01melse\u001b[39;00m:\n\u001b[0;32m    290\u001b[0m     res_values \u001b[38;5;241m=\u001b[39m _na_arithmetic_op(lvalues, rvalues, op, is_cmp\u001b[38;5;241m=\u001b[39m\u001b[38;5;28;01mTrue\u001b[39;00m)\n",
      "File \u001b[1;32m~\\anaconda3\\lib\\site-packages\\pandas\\core\\ops\\array_ops.py:75\u001b[0m, in \u001b[0;36mcomp_method_OBJECT_ARRAY\u001b[1;34m(op, x, y)\u001b[0m\n\u001b[0;32m     73\u001b[0m     result \u001b[38;5;241m=\u001b[39m libops\u001b[38;5;241m.\u001b[39mvec_compare(x\u001b[38;5;241m.\u001b[39mravel(), y\u001b[38;5;241m.\u001b[39mravel(), op)\n\u001b[0;32m     74\u001b[0m \u001b[38;5;28;01melse\u001b[39;00m:\n\u001b[1;32m---> 75\u001b[0m     result \u001b[38;5;241m=\u001b[39m \u001b[43mlibops\u001b[49m\u001b[38;5;241;43m.\u001b[39;49m\u001b[43mscalar_compare\u001b[49m\u001b[43m(\u001b[49m\u001b[43mx\u001b[49m\u001b[38;5;241;43m.\u001b[39;49m\u001b[43mravel\u001b[49m\u001b[43m(\u001b[49m\u001b[43m)\u001b[49m\u001b[43m,\u001b[49m\u001b[43m \u001b[49m\u001b[43my\u001b[49m\u001b[43m,\u001b[49m\u001b[43m \u001b[49m\u001b[43mop\u001b[49m\u001b[43m)\u001b[49m\n\u001b[0;32m     76\u001b[0m \u001b[38;5;28;01mreturn\u001b[39;00m result\u001b[38;5;241m.\u001b[39mreshape(x\u001b[38;5;241m.\u001b[39mshape)\n",
      "File \u001b[1;32m~\\anaconda3\\lib\\site-packages\\pandas\\_libs\\ops.pyx:107\u001b[0m, in \u001b[0;36mpandas._libs.ops.scalar_compare\u001b[1;34m()\u001b[0m\n",
      "File \u001b[1;32m~\\anaconda3\\lib\\site-packages\\pandas\\core\\generic.py:1527\u001b[0m, in \u001b[0;36mNDFrame.__nonzero__\u001b[1;34m(self)\u001b[0m\n\u001b[0;32m   1525\u001b[0m \u001b[38;5;129m@final\u001b[39m\n\u001b[0;32m   1526\u001b[0m \u001b[38;5;28;01mdef\u001b[39;00m \u001b[38;5;21m__nonzero__\u001b[39m(\u001b[38;5;28mself\u001b[39m) \u001b[38;5;241m-\u001b[39m\u001b[38;5;241m>\u001b[39m NoReturn:\n\u001b[1;32m-> 1527\u001b[0m     \u001b[38;5;28;01mraise\u001b[39;00m \u001b[38;5;167;01mValueError\u001b[39;00m(\n\u001b[0;32m   1528\u001b[0m         \u001b[38;5;124mf\u001b[39m\u001b[38;5;124m\"\u001b[39m\u001b[38;5;124mThe truth value of a \u001b[39m\u001b[38;5;132;01m{\u001b[39;00m\u001b[38;5;28mtype\u001b[39m(\u001b[38;5;28mself\u001b[39m)\u001b[38;5;241m.\u001b[39m\u001b[38;5;18m__name__\u001b[39m\u001b[38;5;132;01m}\u001b[39;00m\u001b[38;5;124m is ambiguous. \u001b[39m\u001b[38;5;124m\"\u001b[39m\n\u001b[0;32m   1529\u001b[0m         \u001b[38;5;124m\"\u001b[39m\u001b[38;5;124mUse a.empty, a.bool(), a.item(), a.any() or a.all().\u001b[39m\u001b[38;5;124m\"\u001b[39m\n\u001b[0;32m   1530\u001b[0m     )\n",
      "\u001b[1;31mValueError\u001b[0m: The truth value of a Series is ambiguous. Use a.empty, a.bool(), a.item(), a.any() or a.all()."
     ]
    }
   ],
   "source": [
    "purlin_test.purlin_load_valley_calcs()"
   ]
  },
  {
   "cell_type": "code",
   "execution_count": null,
   "id": "439c4f5d",
   "metadata": {},
   "outputs": [],
   "source": []
  },
  {
   "cell_type": "code",
   "execution_count": 259,
   "id": "972f0e77",
   "metadata": {},
   "outputs": [],
   "source": [
    "class TestClass(SolarRoofLoading):\n",
    "    \n",
    "    def __init__(self, cladding, services, PV_loading, maintenance, uniform_snow_loading, snow_drift_valley, snow_drift_parapet, wind_down, snow_drift_length):\n",
    "        \n",
    "        self.prop_SLS_load = pd.Series(dtype=float)\n",
    "        super().__init__(cladding, services, PV_loading, maintenance, uniform_snow_loading, snow_drift_valley, snow_drift_parapet, wind_down, snow_drift_length)     \n",
    "    \n",
    "    def test(self):\n",
    "        \n",
    "        # Calculates the total proposed SLS load on each purlin\n",
    "        #prop_max_4 = self.proposed_LC_BS('prop_max_4')\n",
    "        for i in range(1,self.purlin_no):\n",
    "            value = self.span * 4 * self.load_width[i]\n",
    "            self.prop_SLS_load = self.prop_SLS_load.append(pd.Series([value], index=[i]))\n",
    "        self.prop_SLS_load.name = 'Total proposed SLS load on purlins (kN)'  \n",
    "        \n",
    "        return self.prop_SLS_load"
   ]
  },
  {
   "cell_type": "code",
   "execution_count": 260,
   "id": "862a767b",
   "metadata": {},
   "outputs": [
    {
     "name": "stdout",
     "output_type": "stream",
     "text": [
      "Please enter the number of purlins: 5\n",
      "Please enter the max purlin span: 6\n",
      "Please enter purlin type: metsec\n",
      "Input the spacing between purlin 0 to purlin 1: 2\n"
     ]
    },
    {
     "name": "stderr",
     "output_type": "stream",
     "text": [
      "C:\\Users\\User\\AppData\\Local\\Temp\\ipykernel_1096\\400752581.py:39: FutureWarning: The series.append method is deprecated and will be removed from pandas in a future version. Use pandas.concat instead.\n",
      "  self.distance_to_next_purlin = self.distance_to_next_purlin.append(pd.Series([value], index=[i]))\n"
     ]
    },
    {
     "name": "stdout",
     "output_type": "stream",
     "text": [
      "Input the spacing between purlin 1 to purlin 2: 2\n"
     ]
    },
    {
     "name": "stderr",
     "output_type": "stream",
     "text": [
      "C:\\Users\\User\\AppData\\Local\\Temp\\ipykernel_1096\\400752581.py:39: FutureWarning: The series.append method is deprecated and will be removed from pandas in a future version. Use pandas.concat instead.\n",
      "  self.distance_to_next_purlin = self.distance_to_next_purlin.append(pd.Series([value], index=[i]))\n"
     ]
    },
    {
     "name": "stdout",
     "output_type": "stream",
     "text": [
      "Input the spacing between purlin 2 to purlin 3: 2\n"
     ]
    },
    {
     "name": "stderr",
     "output_type": "stream",
     "text": [
      "C:\\Users\\User\\AppData\\Local\\Temp\\ipykernel_1096\\400752581.py:39: FutureWarning: The series.append method is deprecated and will be removed from pandas in a future version. Use pandas.concat instead.\n",
      "  self.distance_to_next_purlin = self.distance_to_next_purlin.append(pd.Series([value], index=[i]))\n"
     ]
    },
    {
     "name": "stdout",
     "output_type": "stream",
     "text": [
      "Input the spacing between purlin 3 to purlin 4: 2\n"
     ]
    },
    {
     "name": "stderr",
     "output_type": "stream",
     "text": [
      "C:\\Users\\User\\AppData\\Local\\Temp\\ipykernel_1096\\400752581.py:39: FutureWarning: The series.append method is deprecated and will be removed from pandas in a future version. Use pandas.concat instead.\n",
      "  self.distance_to_next_purlin = self.distance_to_next_purlin.append(pd.Series([value], index=[i]))\n"
     ]
    },
    {
     "name": "stdout",
     "output_type": "stream",
     "text": [
      "Input the spacing between purlin 4 to purlin 5: 2\n"
     ]
    },
    {
     "name": "stderr",
     "output_type": "stream",
     "text": [
      "C:\\Users\\User\\AppData\\Local\\Temp\\ipykernel_1096\\400752581.py:39: FutureWarning: The series.append method is deprecated and will be removed from pandas in a future version. Use pandas.concat instead.\n",
      "  self.distance_to_next_purlin = self.distance_to_next_purlin.append(pd.Series([value], index=[i]))\n"
     ]
    },
    {
     "name": "stdout",
     "output_type": "stream",
     "text": [
      "Enter ULS Capacity of the purlins: 15\n",
      "Enter SLS Capacity of the purlins: 12\n"
     ]
    },
    {
     "name": "stderr",
     "output_type": "stream",
     "text": [
      "C:\\Users\\User\\AppData\\Local\\Temp\\ipykernel_1096\\400752581.py:51: FutureWarning: The series.append method is deprecated and will be removed from pandas in a future version. Use pandas.concat instead.\n",
      "  self.purlin_ULS_capacity = self.purlin_ULS_capacity.append(pd.Series([value], index=[i]))\n",
      "C:\\Users\\User\\AppData\\Local\\Temp\\ipykernel_1096\\400752581.py:51: FutureWarning: The series.append method is deprecated and will be removed from pandas in a future version. Use pandas.concat instead.\n",
      "  self.purlin_ULS_capacity = self.purlin_ULS_capacity.append(pd.Series([value], index=[i]))\n",
      "C:\\Users\\User\\AppData\\Local\\Temp\\ipykernel_1096\\400752581.py:51: FutureWarning: The series.append method is deprecated and will be removed from pandas in a future version. Use pandas.concat instead.\n",
      "  self.purlin_ULS_capacity = self.purlin_ULS_capacity.append(pd.Series([value], index=[i]))\n",
      "C:\\Users\\User\\AppData\\Local\\Temp\\ipykernel_1096\\400752581.py:51: FutureWarning: The series.append method is deprecated and will be removed from pandas in a future version. Use pandas.concat instead.\n",
      "  self.purlin_ULS_capacity = self.purlin_ULS_capacity.append(pd.Series([value], index=[i]))\n",
      "C:\\Users\\User\\AppData\\Local\\Temp\\ipykernel_1096\\400752581.py:59: FutureWarning: The series.append method is deprecated and will be removed from pandas in a future version. Use pandas.concat instead.\n",
      "  self.purlin_SLS_capacity = self.purlin_SLS_capacity.append(pd.Series([value], index=[i]))\n",
      "C:\\Users\\User\\AppData\\Local\\Temp\\ipykernel_1096\\400752581.py:59: FutureWarning: The series.append method is deprecated and will be removed from pandas in a future version. Use pandas.concat instead.\n",
      "  self.purlin_SLS_capacity = self.purlin_SLS_capacity.append(pd.Series([value], index=[i]))\n",
      "C:\\Users\\User\\AppData\\Local\\Temp\\ipykernel_1096\\400752581.py:59: FutureWarning: The series.append method is deprecated and will be removed from pandas in a future version. Use pandas.concat instead.\n",
      "  self.purlin_SLS_capacity = self.purlin_SLS_capacity.append(pd.Series([value], index=[i]))\n",
      "C:\\Users\\User\\AppData\\Local\\Temp\\ipykernel_1096\\400752581.py:59: FutureWarning: The series.append method is deprecated and will be removed from pandas in a future version. Use pandas.concat instead.\n",
      "  self.purlin_SLS_capacity = self.purlin_SLS_capacity.append(pd.Series([value], index=[i]))\n",
      "C:\\Users\\User\\AppData\\Local\\Temp\\ipykernel_1096\\400752581.py:64: FutureWarning: The series.append method is deprecated and will be removed from pandas in a future version. Use pandas.concat instead.\n",
      "  self.distance_from_ridge = self.distance_from_ridge.append(pd.Series([self.distance_to_next_purlin.sum()], index=[0]))\n",
      "C:\\Users\\User\\AppData\\Local\\Temp\\ipykernel_1096\\400752581.py:67: FutureWarning: The series.append method is deprecated and will be removed from pandas in a future version. Use pandas.concat instead.\n",
      "  self.distance_from_ridge = self.distance_from_ridge.append(pd.Series([value], index=[i]))\n",
      "C:\\Users\\User\\AppData\\Local\\Temp\\ipykernel_1096\\400752581.py:67: FutureWarning: The series.append method is deprecated and will be removed from pandas in a future version. Use pandas.concat instead.\n",
      "  self.distance_from_ridge = self.distance_from_ridge.append(pd.Series([value], index=[i]))\n",
      "C:\\Users\\User\\AppData\\Local\\Temp\\ipykernel_1096\\400752581.py:67: FutureWarning: The series.append method is deprecated and will be removed from pandas in a future version. Use pandas.concat instead.\n",
      "  self.distance_from_ridge = self.distance_from_ridge.append(pd.Series([value], index=[i]))\n",
      "C:\\Users\\User\\AppData\\Local\\Temp\\ipykernel_1096\\400752581.py:67: FutureWarning: The series.append method is deprecated and will be removed from pandas in a future version. Use pandas.concat instead.\n",
      "  self.distance_from_ridge = self.distance_from_ridge.append(pd.Series([value], index=[i]))\n",
      "C:\\Users\\User\\AppData\\Local\\Temp\\ipykernel_1096\\400752581.py:71: FutureWarning: The series.append method is deprecated and will be removed from pandas in a future version. Use pandas.concat instead.\n",
      "  self.load_width = self.load_width.append(pd.Series([self.distance_to_next_purlin[0] + self.distance_to_next_purlin[1]/2], index=[1]))\n",
      "C:\\Users\\User\\AppData\\Local\\Temp\\ipykernel_1096\\400752581.py:74: FutureWarning: The series.append method is deprecated and will be removed from pandas in a future version. Use pandas.concat instead.\n",
      "  self.load_width = self.load_width.append(pd.Series([value], index=[i]))\n",
      "C:\\Users\\User\\AppData\\Local\\Temp\\ipykernel_1096\\400752581.py:74: FutureWarning: The series.append method is deprecated and will be removed from pandas in a future version. Use pandas.concat instead.\n",
      "  self.load_width = self.load_width.append(pd.Series([value], index=[i]))\n",
      "C:\\Users\\User\\AppData\\Local\\Temp\\ipykernel_1096\\400752581.py:74: FutureWarning: The series.append method is deprecated and will be removed from pandas in a future version. Use pandas.concat instead.\n",
      "  self.load_width = self.load_width.append(pd.Series([value], index=[i]))\n"
     ]
    }
   ],
   "source": [
    "test = TestClass(0.15,0.25,0.15,0.6,0.3,1.2,1.2,0.3,6)"
   ]
  },
  {
   "cell_type": "code",
   "execution_count": 258,
   "id": "330be312",
   "metadata": {},
   "outputs": [
    {
     "name": "stderr",
     "output_type": "stream",
     "text": [
      "C:\\Users\\User\\AppData\\Local\\Temp\\ipykernel_1096\\3559734923.py:14: FutureWarning: The series.append method is deprecated and will be removed from pandas in a future version. Use pandas.concat instead.\n",
      "  self.prop_SLS_load = self.prop_SLS_load.append(pd.Series([value], index=[i]))\n",
      "C:\\Users\\User\\AppData\\Local\\Temp\\ipykernel_1096\\3559734923.py:14: FutureWarning: The series.append method is deprecated and will be removed from pandas in a future version. Use pandas.concat instead.\n",
      "  self.prop_SLS_load = self.prop_SLS_load.append(pd.Series([value], index=[i]))\n",
      "C:\\Users\\User\\AppData\\Local\\Temp\\ipykernel_1096\\3559734923.py:14: FutureWarning: The series.append method is deprecated and will be removed from pandas in a future version. Use pandas.concat instead.\n",
      "  self.prop_SLS_load = self.prop_SLS_load.append(pd.Series([value], index=[i]))\n",
      "C:\\Users\\User\\AppData\\Local\\Temp\\ipykernel_1096\\3559734923.py:14: FutureWarning: The series.append method is deprecated and will be removed from pandas in a future version. Use pandas.concat instead.\n",
      "  self.prop_SLS_load = self.prop_SLS_load.append(pd.Series([value], index=[i]))\n"
     ]
    },
    {
     "data": {
      "text/plain": [
       "1    20.16\n",
       "2    13.44\n",
       "3    13.44\n",
       "4    13.44\n",
       "Name: Total proposed SLS load on purlins (kN), dtype: float64"
      ]
     },
     "execution_count": 258,
     "metadata": {},
     "output_type": "execute_result"
    }
   ],
   "source": [
    "test.test()"
   ]
  },
  {
   "cell_type": "code",
   "execution_count": null,
   "id": "de974807",
   "metadata": {},
   "outputs": [],
   "source": []
  },
  {
   "cell_type": "code",
   "execution_count": null,
   "id": "5123bfee",
   "metadata": {},
   "outputs": [],
   "source": []
  },
  {
   "cell_type": "code",
   "execution_count": 214,
   "id": "fa14c883",
   "metadata": {},
   "outputs": [
    {
     "name": "stdout",
     "output_type": "stream",
     "text": [
      "Please enter the number of purlins: 5\n",
      "Please enter the max purlin span: 6\n",
      "Please enter purlin type: mwtsec\n",
      "Input the spacing between purlin 0 to purlin 1: 2\n"
     ]
    },
    {
     "name": "stderr",
     "output_type": "stream",
     "text": [
      "C:\\Users\\User\\AppData\\Local\\Temp\\ipykernel_1096\\400752581.py:39: FutureWarning: The series.append method is deprecated and will be removed from pandas in a future version. Use pandas.concat instead.\n",
      "  self.distance_to_next_purlin = self.distance_to_next_purlin.append(pd.Series([value], index=[i]))\n"
     ]
    },
    {
     "name": "stdout",
     "output_type": "stream",
     "text": [
      "Input the spacing between purlin 1 to purlin 2: 2\n"
     ]
    },
    {
     "name": "stderr",
     "output_type": "stream",
     "text": [
      "C:\\Users\\User\\AppData\\Local\\Temp\\ipykernel_1096\\400752581.py:39: FutureWarning: The series.append method is deprecated and will be removed from pandas in a future version. Use pandas.concat instead.\n",
      "  self.distance_to_next_purlin = self.distance_to_next_purlin.append(pd.Series([value], index=[i]))\n"
     ]
    },
    {
     "name": "stdout",
     "output_type": "stream",
     "text": [
      "Input the spacing between purlin 2 to purlin 3: 2\n"
     ]
    },
    {
     "name": "stderr",
     "output_type": "stream",
     "text": [
      "C:\\Users\\User\\AppData\\Local\\Temp\\ipykernel_1096\\400752581.py:39: FutureWarning: The series.append method is deprecated and will be removed from pandas in a future version. Use pandas.concat instead.\n",
      "  self.distance_to_next_purlin = self.distance_to_next_purlin.append(pd.Series([value], index=[i]))\n"
     ]
    },
    {
     "name": "stdout",
     "output_type": "stream",
     "text": [
      "Input the spacing between purlin 3 to purlin 4: 2\n"
     ]
    },
    {
     "name": "stderr",
     "output_type": "stream",
     "text": [
      "C:\\Users\\User\\AppData\\Local\\Temp\\ipykernel_1096\\400752581.py:39: FutureWarning: The series.append method is deprecated and will be removed from pandas in a future version. Use pandas.concat instead.\n",
      "  self.distance_to_next_purlin = self.distance_to_next_purlin.append(pd.Series([value], index=[i]))\n"
     ]
    },
    {
     "name": "stdout",
     "output_type": "stream",
     "text": [
      "Input the spacing between purlin 4 to purlin 5: 2\n"
     ]
    },
    {
     "name": "stderr",
     "output_type": "stream",
     "text": [
      "C:\\Users\\User\\AppData\\Local\\Temp\\ipykernel_1096\\400752581.py:39: FutureWarning: The series.append method is deprecated and will be removed from pandas in a future version. Use pandas.concat instead.\n",
      "  self.distance_to_next_purlin = self.distance_to_next_purlin.append(pd.Series([value], index=[i]))\n"
     ]
    },
    {
     "name": "stdout",
     "output_type": "stream",
     "text": [
      "Enter ULS Capacity of the purlins: 15\n",
      "Enter SLS Capacity of the purlins: 12\n"
     ]
    },
    {
     "name": "stderr",
     "output_type": "stream",
     "text": [
      "C:\\Users\\User\\AppData\\Local\\Temp\\ipykernel_1096\\400752581.py:51: FutureWarning: The series.append method is deprecated and will be removed from pandas in a future version. Use pandas.concat instead.\n",
      "  self.purlin_ULS_capacity = self.purlin_ULS_capacity.append(pd.Series([value], index=[i]))\n",
      "C:\\Users\\User\\AppData\\Local\\Temp\\ipykernel_1096\\400752581.py:51: FutureWarning: The series.append method is deprecated and will be removed from pandas in a future version. Use pandas.concat instead.\n",
      "  self.purlin_ULS_capacity = self.purlin_ULS_capacity.append(pd.Series([value], index=[i]))\n",
      "C:\\Users\\User\\AppData\\Local\\Temp\\ipykernel_1096\\400752581.py:51: FutureWarning: The series.append method is deprecated and will be removed from pandas in a future version. Use pandas.concat instead.\n",
      "  self.purlin_ULS_capacity = self.purlin_ULS_capacity.append(pd.Series([value], index=[i]))\n",
      "C:\\Users\\User\\AppData\\Local\\Temp\\ipykernel_1096\\400752581.py:51: FutureWarning: The series.append method is deprecated and will be removed from pandas in a future version. Use pandas.concat instead.\n",
      "  self.purlin_ULS_capacity = self.purlin_ULS_capacity.append(pd.Series([value], index=[i]))\n",
      "C:\\Users\\User\\AppData\\Local\\Temp\\ipykernel_1096\\400752581.py:59: FutureWarning: The series.append method is deprecated and will be removed from pandas in a future version. Use pandas.concat instead.\n",
      "  self.purlin_SLS_capacity = self.purlin_SLS_capacity.append(pd.Series([value], index=[i]))\n",
      "C:\\Users\\User\\AppData\\Local\\Temp\\ipykernel_1096\\400752581.py:59: FutureWarning: The series.append method is deprecated and will be removed from pandas in a future version. Use pandas.concat instead.\n",
      "  self.purlin_SLS_capacity = self.purlin_SLS_capacity.append(pd.Series([value], index=[i]))\n",
      "C:\\Users\\User\\AppData\\Local\\Temp\\ipykernel_1096\\400752581.py:59: FutureWarning: The series.append method is deprecated and will be removed from pandas in a future version. Use pandas.concat instead.\n",
      "  self.purlin_SLS_capacity = self.purlin_SLS_capacity.append(pd.Series([value], index=[i]))\n",
      "C:\\Users\\User\\AppData\\Local\\Temp\\ipykernel_1096\\400752581.py:59: FutureWarning: The series.append method is deprecated and will be removed from pandas in a future version. Use pandas.concat instead.\n",
      "  self.purlin_SLS_capacity = self.purlin_SLS_capacity.append(pd.Series([value], index=[i]))\n",
      "C:\\Users\\User\\AppData\\Local\\Temp\\ipykernel_1096\\400752581.py:64: FutureWarning: The series.append method is deprecated and will be removed from pandas in a future version. Use pandas.concat instead.\n",
      "  self.distance_from_ridge = self.distance_from_ridge.append(pd.Series([self.distance_to_next_purlin.sum()], index=[0]))\n",
      "C:\\Users\\User\\AppData\\Local\\Temp\\ipykernel_1096\\400752581.py:67: FutureWarning: The series.append method is deprecated and will be removed from pandas in a future version. Use pandas.concat instead.\n",
      "  self.distance_from_ridge = self.distance_from_ridge.append(pd.Series([value], index=[i]))\n",
      "C:\\Users\\User\\AppData\\Local\\Temp\\ipykernel_1096\\400752581.py:67: FutureWarning: The series.append method is deprecated and will be removed from pandas in a future version. Use pandas.concat instead.\n",
      "  self.distance_from_ridge = self.distance_from_ridge.append(pd.Series([value], index=[i]))\n",
      "C:\\Users\\User\\AppData\\Local\\Temp\\ipykernel_1096\\400752581.py:67: FutureWarning: The series.append method is deprecated and will be removed from pandas in a future version. Use pandas.concat instead.\n",
      "  self.distance_from_ridge = self.distance_from_ridge.append(pd.Series([value], index=[i]))\n",
      "C:\\Users\\User\\AppData\\Local\\Temp\\ipykernel_1096\\400752581.py:67: FutureWarning: The series.append method is deprecated and will be removed from pandas in a future version. Use pandas.concat instead.\n",
      "  self.distance_from_ridge = self.distance_from_ridge.append(pd.Series([value], index=[i]))\n",
      "C:\\Users\\User\\AppData\\Local\\Temp\\ipykernel_1096\\400752581.py:71: FutureWarning: The series.append method is deprecated and will be removed from pandas in a future version. Use pandas.concat instead.\n",
      "  self.load_width = self.load_width.append(pd.Series([self.distance_to_next_purlin[0] + self.distance_to_next_purlin[1]/2], index=[1]))\n",
      "C:\\Users\\User\\AppData\\Local\\Temp\\ipykernel_1096\\400752581.py:74: FutureWarning: The series.append method is deprecated and will be removed from pandas in a future version. Use pandas.concat instead.\n",
      "  self.load_width = self.load_width.append(pd.Series([value], index=[i]))\n",
      "C:\\Users\\User\\AppData\\Local\\Temp\\ipykernel_1096\\400752581.py:74: FutureWarning: The series.append method is deprecated and will be removed from pandas in a future version. Use pandas.concat instead.\n",
      "  self.load_width = self.load_width.append(pd.Series([value], index=[i]))\n",
      "C:\\Users\\User\\AppData\\Local\\Temp\\ipykernel_1096\\400752581.py:74: FutureWarning: The series.append method is deprecated and will be removed from pandas in a future version. Use pandas.concat instead.\n",
      "  self.load_width = self.load_width.append(pd.Series([value], index=[i]))\n"
     ]
    }
   ],
   "source": [
    "roof_2 = PurlinLoadExisting(0.15,0.25,0.15,0.6,0.3,1.2,1.2,0.3,6)"
   ]
  },
  {
   "cell_type": "code",
   "execution_count": null,
   "id": "fcf0a4af",
   "metadata": {},
   "outputs": [],
   "source": []
  },
  {
   "cell_type": "code",
   "execution_count": null,
   "id": "1a33ee16",
   "metadata": {},
   "outputs": [],
   "source": []
  },
  {
   "cell_type": "code",
   "execution_count": null,
   "id": "39f9a09e",
   "metadata": {},
   "outputs": [],
   "source": []
  },
  {
   "cell_type": "code",
   "execution_count": null,
   "id": "81ed7b48",
   "metadata": {},
   "outputs": [],
   "source": []
  },
  {
   "cell_type": "code",
   "execution_count": null,
   "id": "94c3c244",
   "metadata": {},
   "outputs": [],
   "source": []
  },
  {
   "cell_type": "code",
   "execution_count": null,
   "id": "c40472c2",
   "metadata": {},
   "outputs": [],
   "source": []
  },
  {
   "cell_type": "code",
   "execution_count": null,
   "id": "28aebc66",
   "metadata": {},
   "outputs": [],
   "source": []
  },
  {
   "cell_type": "code",
   "execution_count": null,
   "id": "a04d499c",
   "metadata": {},
   "outputs": [],
   "source": []
  },
  {
   "cell_type": "code",
   "execution_count": null,
   "id": "e464e32b",
   "metadata": {},
   "outputs": [],
   "source": []
  }
 ],
 "metadata": {
  "kernelspec": {
   "display_name": "Python 3 (ipykernel)",
   "language": "python",
   "name": "python3"
  },
  "language_info": {
   "codemirror_mode": {
    "name": "ipython",
    "version": 3
   },
   "file_extension": ".py",
   "mimetype": "text/x-python",
   "name": "python",
   "nbconvert_exporter": "python",
   "pygments_lexer": "ipython3",
   "version": "3.10.9"
  }
 },
 "nbformat": 4,
 "nbformat_minor": 5
}
